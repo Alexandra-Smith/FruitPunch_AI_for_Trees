{
  "nbformat": 4,
  "nbformat_minor": 0,
  "metadata": {
    "colab": {
      "provenance": [],
      "include_colab_link": true
    },
    "kernelspec": {
      "name": "python3",
      "display_name": "Python 3"
    },
    "language_info": {
      "name": "python"
    }
  },
  "cells": [
    {
      "cell_type": "markdown",
      "metadata": {
        "id": "view-in-github",
        "colab_type": "text"
      },
      "source": [
        "<a href=\"https://colab.research.google.com/github/Alexandra-Smith/FruitPunch_AI_for_Trees/blob/main/final_code.ipynb\" target=\"_parent\"><img src=\"https://colab.research.google.com/assets/colab-badge.svg\" alt=\"Open In Colab\"/></a>"
      ]
    },
    {
      "cell_type": "markdown",
      "source": [
        "# **AI for Trees - Data subteam**"
      ],
      "metadata": {
        "id": "93_n8BFG7fOJ"
      }
    },
    {
      "cell_type": "markdown",
      "source": [
        "This is the code used for working with all the images, including\n",
        "- the .tif images provided, the dem files provided, as well as the geojson files containing segmented trees (labels)\n",
        "- converting images provided into formats required for extracting patches (.tif)\n",
        "- extracting the patches from the images and saving them to the folders on the drive"
      ],
      "metadata": {
        "id": "rj04s6347iBx"
      }
    },
    {
      "cell_type": "code",
      "execution_count": null,
      "metadata": {
        "id": "V1l6lyRSuL4T"
      },
      "outputs": [],
      "source": [
        "# Connect directory to notebook and navigate to where data is stored\n",
        "\n",
        "# mount google drive\n",
        "from google.colab import drive\n",
        "drive.mount('/content/drive')"
      ]
    },
    {
      "cell_type": "markdown",
      "source": [
        "Import all needed modules"
      ],
      "metadata": {
        "id": "QiGZLZILu2sc"
      }
    },
    {
      "cell_type": "code",
      "source": [
        "import matplotlib.pyplot as plt\n",
        "import cv2\n",
        "import numpy\n",
        "import tensorflow as tf\n",
        "import numpy as np\n",
        "from PIL import Image\n",
        "import glob\n",
        "# import tensorflow_addons as tfa\n",
        "from osgeo import gdal\n",
        "import geopandas as gpd"
      ],
      "metadata": {
        "id": "CNlvKO1SuugZ"
      },
      "execution_count": null,
      "outputs": []
    },
    {
      "cell_type": "markdown",
      "source": [
        "Functions needed"
      ],
      "metadata": {
        "id": "ubFjG0AAu4cl"
      }
    },
    {
      "cell_type": "code",
      "source": [
        "# Function for extracting image patches\n",
        "def extractPatches(image, patch_size, num_strides):\n",
        "  ''' Extracting square image patches from an input image.\n",
        "      returns: array of patches and total number of patches '''\n",
        "  r, c, d = image.shape\n",
        "  # reshape image to 4D tensor\n",
        "  I = np.reshape(image, (1, r, c, d))\n",
        "  p = tf.image.extract_patches(images=I, sizes=[1, patch_size, patch_size, 1], strides=[1, num_strides, num_strides, 1], rates=[1, 1, 1, 1], padding='SAME')\n",
        "  P = p.numpy(); sh = P.shape; num_patches = np.int((sh[1]*sh[2]))\n",
        "  # get numpy array of size (number of patches, patch size, patch size)\n",
        "  patches = np.reshape(P, (num_patches, patch_size, patch_size, 3))\n",
        "  return patches, num_patches\n",
        "\n",
        "# Function to save the GEOJSON files to .tif images\n",
        "def geojson_to_tif(path_to_images, geojson_labels, destination_path):\n",
        "  for i in range(len(geojson_labels)):\n",
        "  # get geojson\n",
        "  g = geojson_labels[i]\n",
        "  # get names\n",
        "  path = g.replace(\"/content/drive/MyDrive/AI for Trees Share/Data to be Labeled/cfru.ti labeled/\", ''); name = path.rpartition('.')[0]\n",
        "  # get image\n",
        "  img = path_to_images + 'Copy of ' + name + '.tif'\n",
        "  image = cv2.imread(img)\n",
        "  r, c, h = image.shape\n",
        "  new_shapes = gpd.read_file(g)\n",
        "  # save images at correct resolution\n",
        "  save_file = destination_path + name + '.tif'\n",
        "  new_shapes.plot()\n",
        "  px = 1/plt.rcParams['figure.dpi']  # pixel in inches\n",
        "  fig = plt.figure(figsize=(c*px, r*px)); plt.axis('off')\n",
        "  plt.savefig(save_file, bbox_inches=\"tight\", pad_inches=0, dpi='figure')\n",
        "\n",
        "# Function to extract and save patches as .png files\n",
        "def save_patches(files, image_path, save_folder):\n",
        "  for f in files:\n",
        "    # extract image names for saving tiles\n",
        "    img_path = f.replace(image_path, '')\n",
        "    img_name = img_path.rpartition('.')[0]\n",
        "    # get image\n",
        "    image = cv2.imread(f)\n",
        "    # extract patches\n",
        "    patches, num_patches = extractPatches(image=image, patch_size=256, num_strides=256)\n",
        "    # save patches\n",
        "    for i in range(1, num_patches+1):\n",
        "      name = save_folder + img_name + '_' + str(i) + '.png'\n",
        "      cv2.imwrite(name, patches[i-1, :, :, :])\n",
        "\n",
        "# Function for saving gdal files as .tif images\n",
        "def gdal_to_tif(imgs, dem_files, image_path, destination_path):\n",
        "  for i in range(len(dem_files)):\n",
        "    f = imgs[i]\n",
        "    # get image names (ids)\n",
        "    path = f.replace(image_path, ''); name = path.rpartition('.')[0]\n",
        "    # get image\n",
        "    image = cv2.imread(f)\n",
        "    r, c, h = image.shape\n",
        "    # get DEM\n",
        "    d = dem_files[i]\n",
        "    DEM = gdal.Open(d).ReadAsArray()\n",
        "    DEM[DEM<0] = 0\n",
        "    # save images\n",
        "    px = 1/plt.rcParams['figure.dpi']  # pixel in inches\n",
        "    fig = plt.figure(figsize=(c*px, r*px)); plt.axis('off'); plt.imshow(DEM); plt.tight_layout(pad=0)\n",
        "    save = destination_path + name + '.tif'\n",
        "    plt.savefig(save, bbox_inches=\"tight\", pad_inches=0, dpi='figure')"
      ],
      "metadata": {
        "id": "etVBM7U0uymK"
      },
      "execution_count": null,
      "outputs": []
    },
    {
      "cell_type": "markdown",
      "source": [
        "Code to run to ..\n",
        "\n",
        "(Don't need to re-run else will overwrite images in these folders)"
      ],
      "metadata": {
        "id": "oOuPrjizvrvR"
      }
    },
    {
      "cell_type": "markdown",
      "source": [
        "Save all files to required formats for extracting patches"
      ],
      "metadata": {
        "id": "FtrR3ROi2KBr"
      }
    },
    {
      "cell_type": "code",
      "source": [
        "# save geojson to .tif\n",
        "imgs_path = \"/content/drive/MyDrive/AI for Trees Share/01. Data/all images/\"\n",
        "geojson_labels = glob.glob(f\"/content/drive/MyDrive/AI for Trees Share/Data to be Labeled/cfru.ti labeled/*.geojson\")\n",
        "destination_path = '/content/drive/MyDrive/AI for Trees Share/Data to be Labeled/cfru.ti tif labels/'\n",
        "geojson_to_tif(imgs_path, geojson_labels, destination_path)\n",
        "\n",
        "# save gdal to .tif\n",
        "# 2019\n",
        "imgs19 = glob.glob(f\"/content/drive/MyDrive/AI for Trees Share/01. Data/2019/img/*.tif\")\n",
        "dems19 = glob.glob(f\"/content/drive/MyDrive/AI for Trees Share/01. Data/2019/dem/*.tif\")\n",
        "gdal_to_tif(imgs19, dems19, '/content/drive/MyDrive/AI for Trees Share/01. Data/2019/img/', '/content/drive/MyDrive/AI for Trees Share/01. Data/2019/DEM_img/')\n",
        "# 2021\n",
        "imgs21 = glob.glob(f\"/content/drive/MyDrive/AI for Trees Share/01. Data/2021/img/*.tif\")\n",
        "dems21 = glob.glob(f\"/content/drive/MyDrive/AI for Trees Share/01. Data/2021/dem/*.tif\")\n",
        "gdal_to_tif(imgs21, dems21, '/content/drive/MyDrive/AI for Trees Share/01. Data/2021/img/', '/content/drive/MyDrive/AI for Trees Share/01. Data/2021/DEM_img/')"
      ],
      "metadata": {
        "id": "EkvLkBA22Opq"
      },
      "execution_count": null,
      "outputs": []
    },
    {
      "cell_type": "code",
      "source": [
        "# resize .tif images created from the gdal files to correct image resolution\n",
        "\n",
        "# 2019\n",
        "imgs19 = glob.glob(f\"/content/drive/MyDrive/AI for Trees Share/01. Data/2019/img/*.tif\")\n",
        "ds19 = glob.glob(f\"/content/drive/MyDrive/AI for Trees Share/01. Data/2019/DEM_img/*.tif\")\n",
        "for i in range(len(ds19)):\n",
        "  f = imgs19[i]\n",
        "  # get image names (ids)\n",
        "  path = f.replace('/content/drive/MyDrive/AI for Trees Share/01. Data/2019/img/', '')\n",
        "  name = path.rpartition('.')[0]\n",
        "  # get image\n",
        "  image = cv2.imread(f)\n",
        "  r, c, h = image.shape\n",
        "  # get DEM\n",
        "  d = ds19[i]\n",
        "  d_img = Image.open(d)\n",
        "  resized_img = d_img.resize((c, r))\n",
        "  # save images\n",
        "  save_dest = '/content/drive/MyDrive/AI for Trees Share/01. Data/2019/final_dem/' + name + '.tif'\n",
        "  resized_img.save(save_dest)\n",
        "\n",
        "# 2021\n",
        "imgs21 = glob.glob(f\"/content/drive/MyDrive/AI for Trees Share/01. Data/2021/img/*.tif\")\n",
        "ds21 = glob.glob(f\"/content/drive/MyDrive/AI for Trees Share/01. Data/2021/DEM_img/*.tif\")\n",
        "for i in range(len(ds19)):\n",
        "  f = imgs21[i]\n",
        "  # get image names (ids)\n",
        "  path = f.replace('/content/drive/MyDrive/AI for Trees Share/01. Data/2021/img/', '')\n",
        "  name = path.rpartition('.')[0]\n",
        "  # get image\n",
        "  image = cv2.imread(f)\n",
        "  r, c, h = image.shape\n",
        "  # get DEM\n",
        "  d = ds21[i]\n",
        "  d_img = Image.open(d)\n",
        "  resized_img = d_img.resize((c, r))\n",
        "  # save images\n",
        "  save_dest = '/content/drive/MyDrive/AI for Trees Share/01. Data/2021/final_dem/' + name + '.tif'\n",
        "  resized_img.save(save_dest)"
      ],
      "metadata": {
        "id": "CkStPdFF43Th"
      },
      "execution_count": null,
      "outputs": []
    },
    {
      "cell_type": "markdown",
      "source": [
        "Extract all patches"
      ],
      "metadata": {
        "id": "F-Gyxx-42Igr"
      }
    },
    {
      "cell_type": "code",
      "source": [
        "# for 2019 .tif\n",
        "2019_files = glob.glob(f\"/content/drive/MyDrive/AI for Trees Share/01. Data/2019/img/*.tif\")\n",
        "save_patches(2019_files, '/content/drive/MyDrive/AI for Trees Share/01. Data/2019/img/', '/content/drive/MyDrive/AI for Trees Share/01. Data/Tiles/256x256/imgs/')"
      ],
      "metadata": {
        "id": "DuFmGfUovrT1"
      },
      "execution_count": null,
      "outputs": []
    },
    {
      "cell_type": "code",
      "source": [
        "# for 2021 .tif\n",
        "2021_files = glob.glob(f\"/content/drive/MyDrive/AI for Trees Share/01. Data/2021/img/*.tif\")\n",
        "save_patches(2021_files, '/content/drive/MyDrive/AI for Trees Share/01. Data/2021/img/', '/content/drive/MyDrive/AI for Trees Share/01. Data/Tiles/256x256/imgs/')"
      ],
      "metadata": {
        "id": "kz--_5Iz16fs"
      },
      "execution_count": null,
      "outputs": []
    },
    {
      "cell_type": "code",
      "source": [
        "# for label images\n",
        "label_files = glob.glob(f\"/content/drive/MyDrive/AI for Trees Share/Data to be Labeled/cfru.ti tif labels/*.tif\")\n",
        "save_patches(label_files, \"/content/drive/MyDrive/AI for Trees Share/Data to be Labeled/cfru.ti labeled/\", '/content/drive/MyDrive/AI for Trees Share/Data to be Labeled/cfru.ti tif labels/')"
      ],
      "metadata": {
        "id": "s4TVcT9Y29be"
      },
      "execution_count": null,
      "outputs": []
    },
    {
      "cell_type": "code",
      "source": [
        "# for DEM files\n",
        "\n",
        "# 2019\n",
        "dems19 = glob.glob(f\"/content/drive/MyDrive/AI for Trees Share/01. Data/2019/final_dem/*.tif\")\n",
        "save_patches(dems19, '/content/drive/MyDrive/AI for Trees Share/01. Data/2019/final_dem/', '/content/drive/MyDrive/AI for Trees Share/01. Data/Tiles/256x256/dem/')\n",
        "\n",
        "# 2021\n",
        "dems21 = glob.glob(f\"/content/drive/MyDrive/AI for Trees Share/01. Data/2021/final_dem/*.tif\")\n",
        "save_patches(dems21, '/content/drive/MyDrive/AI for Trees Share/01. Data/2021/final_dem/', '/content/drive/MyDrive/AI for Trees Share/01. Data/Tiles/256x256/dem/')"
      ],
      "metadata": {
        "colab": {
          "base_uri": "https://localhost:8080/",
          "height": 248
        },
        "id": "5vUJPCic5hkc",
        "outputId": "1cb864b5-0af1-489c-be6d-45010ca5b35d"
      },
      "execution_count": null,
      "outputs": [
        {
          "output_type": "error",
          "ename": "NameError",
          "evalue": "ignored",
          "traceback": [
            "\u001b[0;31m---------------------------------------------------------------------------\u001b[0m",
            "\u001b[0;31mNameError\u001b[0m                                 Traceback (most recent call last)",
            "\u001b[0;32m<ipython-input-2-3bfb78905251>\u001b[0m in \u001b[0;36m<module>\u001b[0;34m\u001b[0m\n\u001b[1;32m      2\u001b[0m \u001b[0;34m\u001b[0m\u001b[0m\n\u001b[1;32m      3\u001b[0m \u001b[0;31m# 2019\u001b[0m\u001b[0;34m\u001b[0m\u001b[0;34m\u001b[0m\u001b[0;34m\u001b[0m\u001b[0m\n\u001b[0;32m----> 4\u001b[0;31m \u001b[0msave_patches\u001b[0m\u001b[0;34m(\u001b[0m\u001b[0;34m)\u001b[0m\u001b[0;34m\u001b[0m\u001b[0;34m\u001b[0m\u001b[0m\n\u001b[0m\u001b[1;32m      5\u001b[0m \u001b[0;34m\u001b[0m\u001b[0m\n\u001b[1;32m      6\u001b[0m \u001b[0;31m# 2021\u001b[0m\u001b[0;34m\u001b[0m\u001b[0;34m\u001b[0m\u001b[0;34m\u001b[0m\u001b[0m\n",
            "\u001b[0;31mNameError\u001b[0m: name 'save_patches' is not defined"
          ]
        }
      ]
    }
  ]
}